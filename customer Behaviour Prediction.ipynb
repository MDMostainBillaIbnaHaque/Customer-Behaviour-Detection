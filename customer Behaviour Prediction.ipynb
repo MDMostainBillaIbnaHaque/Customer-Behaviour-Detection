{
 "cells": [
  {
   "cell_type": "markdown",
   "id": "993dd0bc",
   "metadata": {},
   "source": [
    "#Start"
   ]
  },
  {
   "cell_type": "code",
   "execution_count": null,
   "id": "20fb6fc1",
   "metadata": {},
   "outputs": [],
   "source": [
    "import pandas as pd\n",
    "\n",
    "# Prompt the user to select a file from their device\n",
    "from google.colab import files\n",
    "uploaded = files.upload()\n",
    "\n",
    "# Assuming the uploaded file is a CSV, load it into a DataFrame\n",
    "import io\n",
    "for filename in uploaded.keys():\n",
    "    df = pd.read_csv(io.BytesIO(uploaded[filename]))\n",
    "    print(f\"Loaded '{filename}' into DataFrame 'df'.\")\n"
   ]
  }
 ],
 "metadata": {
  "kernelspec": {
   "display_name": ".venv",
   "language": "python",
   "name": "python3"
  },
  "language_info": {
   "name": "python",
   "version": "3.13.3"
  }
 },
 "nbformat": 4,
 "nbformat_minor": 5
}
